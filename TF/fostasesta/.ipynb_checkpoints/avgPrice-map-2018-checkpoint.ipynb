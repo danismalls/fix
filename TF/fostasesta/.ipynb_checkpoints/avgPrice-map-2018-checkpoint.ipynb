{
 "cells": [
  {
   "cell_type": "code",
   "execution_count": 2,
   "metadata": {},
   "outputs": [],
   "source": [
    "from datetime import datetime\n",
    "import numpy as np\n",
    "import pandas as pd\n",
    "\n",
    "import plotly.plotly as py\n",
    "import plotly.tools as tools\n",
    "from plotly.graph_objs import *\n",
    "from plotly.grid_objs import Grid, Column\n",
    "\n",
    "mapbox_access_token = \"pk.eyJ1IjoiZGFuaWFzNyIsImEiOiJjamxtOXkzbHIxNXhtM2tvYTNxa3JtNXNvIn0.Pw8NjvqPcdWGMJHLtNsTAw\""
   ]
  },
  {
   "cell_type": "code",
   "execution_count": 3,
   "metadata": {},
   "outputs": [],
   "source": [
    "tools.set_credentials_file(username='dsmalls', api_key='RTb4xsZwQeNNah99LwRi')"
   ]
  },
  {
   "cell_type": "code",
   "execution_count": 4,
   "metadata": {},
   "outputs": [],
   "source": [
    "filename = \"geohash_prices.csv\"\n",
    "pricesdf = pd.read_csv(filename)\n",
    "chart_filename = \"averageRate -\" + str(datetime.now())"
   ]
  },
  {
   "cell_type": "code",
   "execution_count": 138,
   "metadata": {},
   "outputs": [
    {
     "name": "stdout",
     "output_type": "stream",
     "text": [
      "Index(['date', 'doc_count', 'geohash', 'avgRate', 'ne_lat', 'ne_lon', 'sw_lat',\n",
      "       'sw_lon'],\n",
      "      dtype='object')\n"
     ]
    }
   ],
   "source": [
    "print(pricesdf.columns)"
   ]
  },
  {
   "cell_type": "code",
   "execution_count": 9,
   "metadata": {},
   "outputs": [],
   "source": [
    "# group daily average rate; sum across all dates ; add new column for average daily rate\n",
    "#group_daily_rates = pricesdf['avgRate'].groupby(pricesdf['date']).transform('sum')\n",
    "#pricesdf['date_daily_rates'] = group_daily_rates"
   ]
  },
  {
   "cell_type": "code",
   "execution_count": 15,
   "metadata": {
    "collapsed": true
   },
   "outputs": [
    {
     "data": {
      "text/plain": [
       "0      41697.483488\n",
       "1      41697.483488\n",
       "2      41697.483488\n",
       "3      41697.483488\n",
       "4      41697.483488\n",
       "5      41697.483488\n",
       "6      41697.483488\n",
       "7      41697.483488\n",
       "8      41697.483488\n",
       "9      41697.483488\n",
       "10     41697.483488\n",
       "11     41697.483488\n",
       "12     41697.483488\n",
       "13     41697.483488\n",
       "14     41697.483488\n",
       "15     41697.483488\n",
       "16     41697.483488\n",
       "17     41697.483488\n",
       "18     41697.483488\n",
       "19     41697.483488\n",
       "20     41697.483488\n",
       "21     41697.483488\n",
       "22     41697.483488\n",
       "23     41697.483488\n",
       "24     41697.483488\n",
       "25     41697.483488\n",
       "26     41697.483488\n",
       "27     41697.483488\n",
       "28     41697.483488\n",
       "29     41697.483488\n",
       "           ...     \n",
       "970    49027.330942\n",
       "971    49027.330942\n",
       "972    49027.330942\n",
       "973    49027.330942\n",
       "974    49027.330942\n",
       "975    49027.330942\n",
       "976    49027.330942\n",
       "977    49027.330942\n",
       "978    49027.330942\n",
       "979    49027.330942\n",
       "980    49027.330942\n",
       "981    49027.330942\n",
       "982    49027.330942\n",
       "983    49027.330942\n",
       "984    49027.330942\n",
       "985    49027.330942\n",
       "986    49027.330942\n",
       "987    49027.330942\n",
       "988    49027.330942\n",
       "989    49027.330942\n",
       "990    49027.330942\n",
       "991    49027.330942\n",
       "992    49027.330942\n",
       "993    49027.330942\n",
       "994    49027.330942\n",
       "995    49027.330942\n",
       "996    49027.330942\n",
       "997    49027.330942\n",
       "998    49027.330942\n",
       "999    58098.499118\n",
       "Name: date_daily_rates, Length: 1000, dtype: float64"
      ]
     },
     "execution_count": 15,
     "metadata": {},
     "output_type": "execute_result"
    }
   ],
   "source": [
    "pricesdf['date_daily_rates'].head(1000)"
   ]
  },
  {
   "cell_type": "code",
   "execution_count": 5,
   "metadata": {},
   "outputs": [
    {
     "name": "stdout",
     "output_type": "stream",
     "text": [
      "Index(['date', 'doc_count', 'geohash', 'avgRate', 'ne_lat', 'ne_lon', 'sw_lat',\n",
      "       'sw_lon'],\n",
      "      dtype='object')\n"
     ]
    }
   ],
   "source": [
    "print(pricesdf.columns)"
   ]
  },
  {
   "cell_type": "code",
   "execution_count": 6,
   "metadata": {},
   "outputs": [],
   "source": [
    "#Get list of days\n",
    "daily = pricesdf[\"date\"].unique()\n",
    "daily = list(sorted(daily.astype(str)))"
   ]
  },
  {
   "cell_type": "code",
   "execution_count": 68,
   "metadata": {
    "scrolled": true
   },
   "outputs": [
    {
     "data": {
      "text/plain": [
       "date\n",
       "2018-01-01    202\n",
       "2018-01-02    288\n",
       "2018-01-03    250\n",
       "2018-01-04    259\n",
       "2018-01-05    307\n",
       "Name: doc_count, dtype: int64"
      ]
     },
     "execution_count": 68,
     "metadata": {},
     "output_type": "execute_result"
    }
   ],
   "source": [
    "#Group by day and count number of documents \n",
    "ylist = pricesdf.groupby(\"date\").count()[\"doc_count\"]\n",
    "ylist_cum = ylist.cumsum()\n",
    "ylist[:5]"
   ]
  },
  {
   "cell_type": "code",
   "execution_count": 54,
   "metadata": {},
   "outputs": [
    {
     "data": {
      "text/plain": [
       "'2018-01-01'"
      ]
     },
     "execution_count": 54,
     "metadata": {},
     "output_type": "execute_result"
    }
   ],
   "source": [
    "daily[0]"
   ]
  },
  {
   "cell_type": "code",
   "execution_count": 8,
   "metadata": {},
   "outputs": [],
   "source": [
    "min_range_day = daily[0]\n",
    "max_range_day = daily[-1]\n",
    "max_range = max(ylist) * 1.25"
   ]
  },
  {
   "cell_type": "markdown",
   "metadata": {},
   "source": [
    "## Set-up Grids"
   ]
  },
  {
   "cell_type": "code",
   "execution_count": 9,
   "metadata": {},
   "outputs": [
    {
     "name": "stderr",
     "output_type": "stream",
     "text": [
      "/Users/dsmalls/anaconda3/lib/python3.6/site-packages/pandas/core/generic.py:4355: SettingWithCopyWarning:\n",
      "\n",
      "\n",
      "A value is trying to be set on a copy of a slice from a DataFrame\n",
      "\n",
      "See the caveats in the documentation: http://pandas.pydata.org/pandas-docs/stable/indexing.html#indexing-view-versus-copy\n",
      "\n"
     ]
    },
    {
     "data": {
      "text/plain": [
       "'https://plot.ly/~dsmalls/28/'"
      ]
     },
     "execution_count": 9,
     "metadata": {},
     "output_type": "execute_result"
    }
   ],
   "source": [
    "grid_filename = chart_filename + \" Grid\"\n",
    "grid_filename2 = grid_filename + \"2\"\n",
    "\n",
    "columns = []\n",
    "columns2 = []\n",
    "\n",
    "\n",
    "daily_avgs = []\n",
    "\n",
    "for i, day in enumerate(daily):\n",
    "    # Filter df for current day only\n",
    "    current_day = pricesdf[pricesdf['date'] == str(day)]\n",
    "    \n",
    "    #Get average rate for each day\n",
    "    daily_avg = current_day[\"avgRate\"].astype(float).mean()\n",
    "    \n",
    "    # If whole average is NaN average daily rate is that of the last day\n",
    "    if daily_avg != daily_avg:\n",
    "        daily_avg = daily_avgs[-1]\n",
    "        \n",
    "    daily_avgs.append(daily_avg)\n",
    "    \n",
    "    # Replace the NaN by that average to not skew data\n",
    "    current_day[\"avgRate\"].fillna(daily_avg, inplace=True)\n",
    "    \n",
    "    lons = list(current_day[\"ne_lon\"].astype(float))\n",
    "    lats = list(current_day[\"ne_lat\"].astype(float))\n",
    "    docs = list(current_day[\"doc_count\"].astype(float))\n",
    "    #sizes = list(current_day[\"blade_l\"].astype(float))\n",
    "    \n",
    "    \n",
    "    # Iteratively grow list to create running counts\n",
    "    xvalues = daily[:i + 1]\n",
    "    yvalues = ylist[:i + 1]\n",
    "    yvalues_cum = ylist_cum[:i + 1]\n",
    "    \n",
    "\n",
    "    columns.append(Column(lons, \"longs{}\".format(i + 1)))\n",
    "    columns.append(Column(lats, \"lats{}\".format(i + 1)))\n",
    "    columns.append(Column(docs, \"docs{}\".format(i + 1)))\n",
    "    #columns.append(Column(sizes, \"size{}\".format(i + 1)))\n",
    "\n",
    "    columns2.append(Column(xvalues, \"x{}\".format(i + 1)))\n",
    "    columns2.append(Column(yvalues, \"y{}\".format(i + 1)))\n",
    "    columns2.append(Column(yvalues_cum, \"y_cum{}\".format(i + 1)))\n",
    "    columns2.append(Column(daily_avgs, \"daily_avg{}\".format(i + 1)))\n",
    "    #columns2.append(Column(statevalues, \"state{}\".format(i + 1)))\n",
    "    #columns2.append(Column(states, \"location{}\".format(i + 1)))\n",
    "    #columns2.append(Column(zvalues, \"z{}\".format(i + 1)))\n",
    "\n",
    "#Will throw error if file exists or path is not root\n",
    "grid = Grid(columns)\n",
    "py.grid_ops.upload(grid, grid_filename, auto_open=False)\n",
    "\n",
    "grid2 = Grid(columns2)\n",
    "py.grid_ops.upload(grid2, grid_filename2, auto_open=False)\n",
    "    \n",
    "    "
   ]
  },
  {
   "cell_type": "code",
   "execution_count": 14,
   "metadata": {},
   "outputs": [],
   "source": [
    "#Colors \n",
    "viridis = [[0, \"rgb(221,42,145)\"], [0.3, \"rgb(177,77,236)\"], [0.4, \"rgb(118,117,237)\"],\n",
    "            [0.65, \"rgb(46,142,191)\"], [0.8, \"rgb(11,152,121)\"], [1, \"rgb(19,152,99)\"]]\n",
    "\n",
    "#viridis_cus = [[0, \"rgb(0,58,70)\"], [0.3, \"rgb(0,194,236)\"], [0.4, \"rgb(76,212,241)\"],\n",
    " #           [0.65, \"rgb(127,224,245)\"], [0.8, \"rgb(178,236,249)\"], [1, \"rgb(229,248,253)\"]]\n",
    "\n",
    "custom_color = [[1, \"rgb(0,58,70)\"], [0.8, \"rgb(0,194,236)\"], [0.65, \"rgb(76,212,241)\"],\n",
    "            [0.4, \"rgb(127,224,245)\"], [0.3, \"rgb(178,236,249)\"], [0, \"rgb(229,248,253)\"]]\n"
   ]
  },
  {
   "cell_type": "code",
   "execution_count": 60,
   "metadata": {},
   "outputs": [],
   "source": [
    "#Main trace\n",
    "\n",
    "trace1 = Scattermapbox(\n",
    "\n",
    "    # GENERAL\n",
    "    lonsrc = grid.get_column_reference(\"longs1\"),\n",
    "    latsrc = grid.get_column_reference(\"lats1\"),\n",
    "    #textsrc = grid.get_column_reference(\"text1\"),\n",
    "    mode = \"markers\",\n",
    "    #hoverinfo = \"lon+lat+text\",\n",
    "\n",
    "    # SPECS\n",
    "    marker = dict(\n",
    "\n",
    "        # BASIC\n",
    "        sizesrc = grid2.get_column_reference(\"daily_avg1\"),\n",
    "        colorsrc = grid2.get_column_reference(\"daily_avg1\"),\n",
    "        sizeref = 12,\n",
    "        opacity = \"0.7\",\n",
    "\n",
    "        # COLORSCALE\n",
    "        #cmin = 0,\n",
    "        #cmax = 900,\n",
    "        autocolorscale = True,\n",
    "        colorscale = custom_color,\n",
    "        colorbar = dict(\n",
    "            title = \"Average<br>Daily<br>Prices(USD$)\",\n",
    "        ),\n",
    "    ),\n",
    "\n",
    ")\n",
    "\n",
    "trace2 = Scatter(\n",
    "\n",
    "    # GENERAL\n",
    "    xsrc = grid2.get_column_reference(\"x1\"),\n",
    "    ysrc = grid.get_column_reference(\"docs1\"),\n",
    "    mode = \"lines\",\n",
    "    fill = \"tozeroy\",\n",
    "    #hoverinfo = \"x+y\",\n",
    "\n",
    "    # SPECS\n",
    "    line = dict(\n",
    "        color = \"#F8C238\",\n",
    "    ),\n",
    "    #marker = dict(\n",
    "     #   symbol = \"cross-thin-open\",\n",
    "    #),\n",
    "    \n",
    "    #marker=dict(\n",
    "    #    color=\"#F8C238\",\n",
    "    #),\n",
    "    \n",
    "    xaxis = \"x\",\n",
    "    yaxis = \"y4\",\n",
    "\n",
    ")\n",
    "\n",
    "\n"
   ]
  },
  {
   "cell_type": "markdown",
   "metadata": {},
   "source": [
    "## Set up Slider and Buttons"
   ]
  },
  {
   "cell_type": "code",
   "execution_count": 61,
   "metadata": {},
   "outputs": [],
   "source": [
    "animation_time = 300\n",
    "transition_time = 30\n",
    "slider_transition_time = 10\n",
    "\n",
    "slider = dict(\n",
    "\n",
    "    # GENERAL\n",
    "    visible = False,\n",
    "    plotlycommand = \"animate\",\n",
    "    values = daily,\n",
    "    initialValue = daily[0],\n",
    "    \n",
    "\n",
    "    # ARGUMENTS\n",
    "    args = [\n",
    "        \"slider.value\",\n",
    "        dict(\n",
    "            duration = animation_time,\n",
    "            ease = \"elastic-in\",\n",
    "        ),\n",
    "    ],\n",
    "\n",
    ")\n",
    "\n",
    "sliders = dict(\n",
    "\n",
    "    # GENERAL\n",
    "    active = 0,\n",
    "    steps = [],\n",
    "\n",
    "    currentvalue = dict(\n",
    "        font = dict(size = 12),\n",
    "        prefix = \"Day : \",\n",
    "        xanchor = \"right\",\n",
    "        visible = False,\n",
    "    ),\n",
    "    transition = dict(\n",
    "        duration = slider_transition_time,\n",
    "        easing = \"elastic-in\",\n",
    "    ),\n",
    "\n",
    "    # PLACEMENT\n",
    "    x = 0.1,\n",
    "    y = 0,\n",
    "    pad = dict(t = 60, b = 10),\n",
    "    len = 0.9,\n",
    "    xanchor = \"left\",\n",
    "    yanchor = \"top\",\n",
    "\n",
    ")\n",
    "\n",
    "for day in daily:\n",
    "\n",
    "    slider_step = dict(\n",
    "\n",
    "            # GENERAL\n",
    "            method = \"animate\",\n",
    "            value = day,\n",
    "            label = day,\n",
    "\n",
    "            # ARGUMENTS\n",
    "            args = [\n",
    "                [day],\n",
    "                dict(\n",
    "                    frame = dict(duration = animation_time, redraw = False),\n",
    "                    transition = dict(duration = slider_transition_time),\n",
    "                    mode = \"immediate\",\n",
    "                    ),\n",
    "                ],\n",
    "\n",
    "            )\n",
    "\n",
    "    sliders[\"steps\"].append(slider_step)\n",
    "\n",
    "\n",
    "updatemenus = dict(\n",
    "\n",
    "    # GENERAL\n",
    "    type = \"buttons\",\n",
    "    showactive = False,\n",
    "    x = 0.1, #x = 1.1\n",
    "    y = 0, #y = 1\n",
    "    pad = dict(t = 60, r = 10),\n",
    "    xanchor = \"right\",\n",
    "    yanchor = \"top\",\n",
    "    direction = \"left\",\n",
    "\n",
    "    # BUTTONS\n",
    "    buttons=[\n",
    "        dict(\n",
    "            method = \"animate\",\n",
    "            label = \"Play\",\n",
    "\n",
    "            # PLAY\n",
    "            args = [\n",
    "                None,\n",
    "                dict(\n",
    "                    frame = dict(duration = animation_time, redraw = False), # False quicker but disables animations\n",
    "                    fromcurrent = True,\n",
    "                    transition = dict(duration = transition_time, easing = \"elastic-in\"), # easing = \"cubic-in-out\"\n",
    "                    mode = \"immediate\",\n",
    "                    ),\n",
    "                ],\n",
    "            ),\n",
    "        dict(\n",
    "            method = \"animate\",\n",
    "            label = \"Pause\",\n",
    "\n",
    "            # PAUSE\n",
    "            args = [\n",
    "                [None], # Note the list\n",
    "                dict(\n",
    "                    frame = dict(duration = 0, redraw = False), # Idem\n",
    "                    mode = \"immediate\",\n",
    "                    transition = dict(duration = 0),\n",
    "                    ),\n",
    "                ],\n",
    "            ),\n",
    "        ],\n",
    "\n",
    ")"
   ]
  },
  {
   "cell_type": "markdown",
   "metadata": {},
   "source": [
    "## Create Layout"
   ]
  },
  {
   "cell_type": "code",
   "execution_count": 62,
   "metadata": {},
   "outputs": [],
   "source": [
    "layout = dict(\n",
    "\n",
    "    title = \"Time Lapse of Average Price per Service Offered <br> January 2018 - October 2018\",\n",
    "\n",
    "    # GENERAL LAYOUT\n",
    "    width = 720,\n",
    "    height = 840,\n",
    "    autosize = True,\n",
    "    font = dict(\n",
    "        family = \"Open Sans\",\n",
    "        size = 16,\n",
    "        color = \"#f9f9f9\",\n",
    "    ),\n",
    "    margin = dict(\n",
    "        t = 80,\n",
    "        l = 80,\n",
    "        b = 80,\n",
    "        r = 80,\n",
    "        pad = 0.5,\n",
    "    ),\n",
    "    showlegend = False,\n",
    "    hovermode = \"closest\",\n",
    "    \n",
    "    \n",
    "    # LOGO\n",
    "    \n",
    "      images = [\n",
    "        dict(\n",
    "            source=\"~/uncharted_logo.png\",\n",
    "            x = 1,\n",
    "            y = 1.05,\n",
    "            sizex = 0.2,\n",
    "            sizey = 0.2,\n",
    "            xref = \"paper\",\n",
    "            yref = \"paper\",\n",
    "            xanchor = \"left\",\n",
    "            yanchor = \"top\"\n",
    "      )\n",
    "    ],\n",
    "    \n",
    "\n",
    "    # ANIMATIONS\n",
    "    slider = slider,\n",
    "    sliders = [sliders],\n",
    "    updatemenus = [updatemenus],\n",
    "    \n",
    "\n",
    "\n",
    "    # COLOR THEME\n",
    "    plot_bgcolor = \"#191A1A\",\n",
    "    paper_bgcolor = \"#020202\",\n",
    "    \n",
    "    \n",
    "\n",
    "    # MAPBOX\n",
    "    mapbox = dict(\n",
    "        accesstoken = mapbox_access_token,\n",
    "        center = dict(\n",
    "            lon = -96.00,\n",
    "            lat = 38.50,\n",
    "        ),\n",
    "        zoom = 3.0,\n",
    "        style = \"dark\",\n",
    "        domain = dict(\n",
    "            x = [0, 1],\n",
    "            y = [0.18, 0.93]\n",
    "        ),\n",
    "    ),\n",
    "\n",
    "    # GEO PLOTS\n",
    "    geo = dict(\n",
    "        projection = dict(\n",
    "            type = \"albers usa\",\n",
    "            scale = 1,\n",
    "            #rotation = dict(lat = 0, lon = 0, roll = 0),\n",
    "        ),\n",
    "        scope = \"usa\",\n",
    "        showframe = False,\n",
    "        resolution = \"100\",\n",
    "        bgcolor = \"rgba(0,0,0,0)\",\n",
    "        showland = True,\n",
    "        landcolor = \"rgb(25,25,26)\",\n",
    "        domain = dict(\n",
    "            x = [0.82, 1],\n",
    "            y = [0.20, 0.30]\n",
    "        ),\n",
    "    ),\n",
    "    \n",
    "    xaxis = dict(\n",
    "        range = [min_range_day, max_range_day],\n",
    "        domain = [0.10, 0.9],\n",
    "        anchor = \"y4\",\n",
    "        title = \"Daily Document Count\",\n",
    "    ),\n",
    "    yaxis4 = dict(\n",
    "        range = [0, max_range],\n",
    "        domain = [0, 0.16],\n",
    "        anchor = \"x\",\n",
    "    ),\n",
    ")"
   ]
  },
  {
   "cell_type": "markdown",
   "metadata": {},
   "source": [
    "## Create Frames"
   ]
  },
  {
   "cell_type": "code",
   "execution_count": 63,
   "metadata": {},
   "outputs": [],
   "source": [
    "frames = []\n",
    "\n",
    "\n",
    "for i, day in enumerate(daily):\n",
    "    \n",
    "    frame_trace1 = dict(\n",
    "        lonsrc = grid.get_column_reference(\"longs{}\".format(i + 1)),\n",
    "        latsrc = grid.get_column_reference(\"lats{}\".format(i + 1)),\n",
    "        #textsrc = grid.get_column_reference(\"text{}\".format(i + 1)),\n",
    "        marker = dict(\n",
    "            sizesrc = grid2.get_column_reference(\"daily_avg{}\".format(i + 1)),\n",
    "            #colorsrc = grid.get_column_reference(\"size{}\".format(i + 1)),\n",
    "        )\n",
    "    )\n",
    "    \n",
    "    \n",
    "    frame_trace2 = dict(\n",
    "        xsrc = grid2.get_column_reference(\"x{}\".format(i + 1)),\n",
    "        ysrc = grid2.get_column_reference(\"y{}\".format(i + 1)),\n",
    "    )\n",
    "    \n",
    "    frame = dict(\n",
    "        data = [frame_trace1, frame_trace2],\n",
    "        name = day,\n",
    "        traces = [0,1],\n",
    "    )\n",
    "    frames.append(frame)"
   ]
  },
  {
   "cell_type": "code",
   "execution_count": 64,
   "metadata": {},
   "outputs": [
    {
     "data": {
      "text/html": [
       "<iframe id=\"igraph\" scrolling=\"no\" style=\"border:none;\" seamless=\"seamless\" src=\"https://plot.ly/~dsmalls/39.embed\" height=\"840px\" width=\"720px\"></iframe>"
      ],
      "text/plain": [
       "<plotly.tools.PlotlyDisplay object>"
      ]
     },
     "execution_count": 64,
     "metadata": {},
     "output_type": "execute_result"
    }
   ],
   "source": [
    "data = [trace1, trace2]\n",
    "figure = dict(data = data, layout = layout, frames=frames)\n",
    "py.icreate_animations(figure)\n",
    "#py.icreate_animations(figure, filename=chart_filename, auto_open=False)"
   ]
  },
  {
   "cell_type": "code",
   "execution_count": null,
   "metadata": {},
   "outputs": [],
   "source": []
  }
 ],
 "metadata": {
  "kernelspec": {
   "display_name": "Python 3",
   "language": "python",
   "name": "python3"
  },
  "language_info": {
   "codemirror_mode": {
    "name": "ipython",
    "version": 3
   },
   "file_extension": ".py",
   "mimetype": "text/x-python",
   "name": "python",
   "nbconvert_exporter": "python",
   "pygments_lexer": "ipython3",
   "version": "3.6.4"
  }
 },
 "nbformat": 4,
 "nbformat_minor": 2
}
